{
  "nbformat": 4,
  "nbformat_minor": 0,
  "metadata": {
    "colab": {
      "name": "perl.ipynb",
      "provenance": [],
      "authorship_tag": "ABX9TyMH5LkBcEqgFYi2NP64cBDv",
      "include_colab_link": true
    },
    "kernelspec": {
      "name": "python3",
      "display_name": "Python 3"
    }
  },
  "cells": [
    {
      "cell_type": "markdown",
      "metadata": {
        "id": "view-in-github",
        "colab_type": "text"
      },
      "source": [
        "<a href=\"https://colab.research.google.com/github/odanado/colab-perl-template/blob/master/perl.ipynb\" target=\"_parent\"><img src=\"https://colab.research.google.com/assets/colab-badge.svg\" alt=\"Open In Colab\"/></a>"
      ]
    },
    {
      "cell_type": "code",
      "metadata": {
        "id": "WbkjlIAmiUNW",
        "colab_type": "code",
        "colab": {
          "base_uri": "https://localhost:8080/",
          "height": 119
        },
        "outputId": "e480debe-c0e7-4af7-936d-83b8a3105341"
      },
      "source": [
        "!apt install -yq perl cpanminus"
      ],
      "execution_count": 1,
      "outputs": [
        {
          "output_type": "stream",
          "text": [
            "Reading package lists...\n",
            "Building dependency tree...\n",
            "Reading state information...\n",
            "cpanminus is already the newest version (1.7043-1).\n",
            "perl is already the newest version (5.26.1-6ubuntu0.3).\n",
            "0 upgraded, 0 newly installed, 0 to remove and 25 not upgraded.\n"
          ],
          "name": "stdout"
        }
      ]
    },
    {
      "cell_type": "code",
      "metadata": {
        "id": "GL8PsI9iit_q",
        "colab_type": "code",
        "colab": {
          "base_uri": "https://localhost:8080/",
          "height": 85
        },
        "outputId": "08f2385e-2117-4c39-8c72-08cf529c1342"
      },
      "source": [
        "!cpanm --notest DDP\n",
        "!cpanm --notest Data::Validator\n",
        "!cpanm --notest Test::Spec\n",
        "!cpanm --notest List::AllUtils"
      ],
      "execution_count": 2,
      "outputs": [
        {
          "output_type": "stream",
          "text": [
            "DDP is up to date. (undef)\n",
            "Data::Validator is up to date. (1.07)\n",
            "Test::Spec is up to date. (0.54)\n",
            "List::AllUtils is up to date. (0.16)\n"
          ],
          "name": "stdout"
        }
      ]
    },
    {
      "cell_type": "code",
      "metadata": {
        "id": "TfICfT4SizFz",
        "colab_type": "code",
        "colab": {
          "base_uri": "https://localhost:8080/",
          "height": 34
        },
        "outputId": "12848a51-96de-4c93-bf01-671b378c310f"
      },
      "source": [
        "%%writefile main.pl\n",
        "print \"hello colab!\\n\";"
      ],
      "execution_count": 3,
      "outputs": [
        {
          "output_type": "stream",
          "text": [
            "Overwriting main.pl\n"
          ],
          "name": "stdout"
        }
      ]
    },
    {
      "cell_type": "code",
      "metadata": {
        "id": "A0MoYlR6j0UJ",
        "colab_type": "code",
        "colab": {
          "base_uri": "https://localhost:8080/",
          "height": 34
        },
        "outputId": "e399f68f-5544-47e9-f9d3-f06dad3476af"
      },
      "source": [
        "!perl main.pl"
      ],
      "execution_count": 4,
      "outputs": [
        {
          "output_type": "stream",
          "text": [
            "hello colab!\n"
          ],
          "name": "stdout"
        }
      ]
    },
    {
      "cell_type": "code",
      "metadata": {
        "id": "CnXjwI-rj1YM",
        "colab_type": "code",
        "colab": {}
      },
      "source": [
        ""
      ],
      "execution_count": 0,
      "outputs": []
    }
  ]
}